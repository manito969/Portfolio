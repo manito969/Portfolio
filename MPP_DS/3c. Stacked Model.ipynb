{
 "cells": [
  {
   "cell_type": "code",
   "execution_count": 1,
   "metadata": {},
   "outputs": [],
   "source": [
    "#Fundamental librarys to math and stats process\n",
    "import numpy as np\n",
    "import numpy.random as nr\n",
    "import scipy.stats as ss\n",
    "import math\n",
    "#data prepared\n",
    "import pandas as pd\n",
    "\n",
    "#ML preprocessi\n",
    "from sklearn import preprocessing\n",
    "from sklearn.preprocessing import StandardScaler\n",
    "import sklearn.model_selection as ms\n",
    "from sklearn.pipeline import make_pipeline\n",
    "from sklearn import feature_selection as fs\n",
    "\n",
    "# ML algorithms models\n",
    "from sklearn.ensemble import RandomForestRegressor,GradientBoostingRegressor \n",
    "from sklearn import linear_model as lm\n",
    "\n",
    "# ML Evaluations\n",
    "import sklearn.metrics as sklm\n",
    "from sklearn import metrics\n",
    "from sklearn.model_selection import cross_validate, train_test_split\n",
    "\n",
    "#Ploting\n",
    "import matplotlib.pyplot as plt\n",
    "import seaborn as sns\n",
    "\n",
    "\n",
    "%matplotlib inline"
   ]
  },
  {
   "cell_type": "code",
   "execution_count": 4,
   "metadata": {},
   "outputs": [
    {
     "name": "stdout",
     "output_type": "stream",
     "text": [
      "(2546, 26)\n",
      "(2546,)\n"
     ]
    }
   ],
   "source": [
    "df = (pd.read_csv('x.csv'))\n",
    "y = (pd.read_csv('y.csv'))\n",
    "y = y['evictions']\n",
    "df = df.drop(['Unnamed: 0'], axis = 1)\n",
    "print(df.shape)\n",
    "print(y.shape)"
   ]
  },
  {
   "cell_type": "code",
   "execution_count": 5,
   "metadata": {},
   "outputs": [
    {
     "data": {
      "text/plain": [
       "['renter_occupied_households',\n",
       " 'pct_renter_occupied',\n",
       " 'median_gross_rent',\n",
       " 'rent_burden',\n",
       " 'pct_af_am',\n",
       " 'pct_hispanic',\n",
       " 'pct_am_ind',\n",
       " 'pct_multiple',\n",
       " 'pct_other',\n",
       " 'poverty_rate',\n",
       " 'pct_unemployment',\n",
       " 'pct_uninsured_adults',\n",
       " 'pct_uninsured_children',\n",
       " 'pct_adult_obesity',\n",
       " 'pct_diabetes',\n",
       " 'heart_disease_mortality_per_100k',\n",
       " 'pct_female',\n",
       " 'pct_below_18_years_of_age',\n",
       " 'pct_adults_less_than_a_high_school_diploma',\n",
       " 'pct_adults_with_high_school_diploma',\n",
       " 'pct_adults_with_some_college',\n",
       " 'birth_rate_per_1k',\n",
       " 'year',\n",
       " 'rucc',\n",
       " 'urban_influence',\n",
       " 'economic_typology']"
      ]
     },
     "execution_count": 5,
     "metadata": {},
     "output_type": "execute_result"
    }
   ],
   "source": [
    "list(df.columns)"
   ]
  },
  {
   "cell_type": "code",
   "execution_count": 6,
   "metadata": {},
   "outputs": [
    {
     "data": {
      "text/html": [
       "<div>\n",
       "<style scoped>\n",
       "    .dataframe tbody tr th:only-of-type {\n",
       "        vertical-align: middle;\n",
       "    }\n",
       "\n",
       "    .dataframe tbody tr th {\n",
       "        vertical-align: top;\n",
       "    }\n",
       "\n",
       "    .dataframe thead th {\n",
       "        text-align: right;\n",
       "    }\n",
       "</style>\n",
       "<table border=\"1\" class=\"dataframe\">\n",
       "  <thead>\n",
       "    <tr style=\"text-align: right;\">\n",
       "      <th></th>\n",
       "      <th>renter_occupied_households</th>\n",
       "      <th>pct_renter_occupied</th>\n",
       "      <th>median_gross_rent</th>\n",
       "      <th>rent_burden</th>\n",
       "      <th>pct_af_am</th>\n",
       "      <th>pct_hispanic</th>\n",
       "      <th>pct_am_ind</th>\n",
       "      <th>pct_multiple</th>\n",
       "      <th>pct_other</th>\n",
       "      <th>poverty_rate</th>\n",
       "      <th>...</th>\n",
       "      <th>pct_female</th>\n",
       "      <th>pct_below_18_years_of_age</th>\n",
       "      <th>pct_adults_less_than_a_high_school_diploma</th>\n",
       "      <th>pct_adults_with_high_school_diploma</th>\n",
       "      <th>pct_adults_with_some_college</th>\n",
       "      <th>birth_rate_per_1k</th>\n",
       "      <th>year</th>\n",
       "      <th>rucc</th>\n",
       "      <th>urban_influence</th>\n",
       "      <th>economic_typology</th>\n",
       "    </tr>\n",
       "  </thead>\n",
       "  <tbody>\n",
       "    <tr>\n",
       "      <th>0</th>\n",
       "      <td>0.002484</td>\n",
       "      <td>0.025221</td>\n",
       "      <td>0.017875</td>\n",
       "      <td>0.022924</td>\n",
       "      <td>0.057196</td>\n",
       "      <td>0.008249</td>\n",
       "      <td>0.000970</td>\n",
       "      <td>0.013199</td>\n",
       "      <td>0.009978</td>\n",
       "      <td>0.026887</td>\n",
       "      <td>...</td>\n",
       "      <td>0.021099</td>\n",
       "      <td>0.021854</td>\n",
       "      <td>0.028364</td>\n",
       "      <td>0.020639</td>\n",
       "      <td>0.018044</td>\n",
       "      <td>0.021756</td>\n",
       "      <td>b</td>\n",
       "      <td>Urban</td>\n",
       "      <td>Micropolitan adjacent to a large metro area</td>\n",
       "      <td>Nonspecialized</td>\n",
       "    </tr>\n",
       "    <tr>\n",
       "      <th>1</th>\n",
       "      <td>0.000438</td>\n",
       "      <td>0.021531</td>\n",
       "      <td>0.014372</td>\n",
       "      <td>0.018178</td>\n",
       "      <td>0.001807</td>\n",
       "      <td>0.004397</td>\n",
       "      <td>0.027541</td>\n",
       "      <td>0.023416</td>\n",
       "      <td>0.000000</td>\n",
       "      <td>0.017373</td>\n",
       "      <td>...</td>\n",
       "      <td>0.020187</td>\n",
       "      <td>0.021854</td>\n",
       "      <td>0.008922</td>\n",
       "      <td>0.021882</td>\n",
       "      <td>0.021505</td>\n",
       "      <td>0.018613</td>\n",
       "      <td>a</td>\n",
       "      <td>Urban</td>\n",
       "      <td>Noncore adjacent to a small metro with town of...</td>\n",
       "      <td>Nonspecialized</td>\n",
       "    </tr>\n",
       "    <tr>\n",
       "      <th>2</th>\n",
       "      <td>0.000617</td>\n",
       "      <td>0.014890</td>\n",
       "      <td>0.018653</td>\n",
       "      <td>0.022314</td>\n",
       "      <td>0.004757</td>\n",
       "      <td>0.005514</td>\n",
       "      <td>0.001688</td>\n",
       "      <td>0.023817</td>\n",
       "      <td>0.002007</td>\n",
       "      <td>0.017316</td>\n",
       "      <td>...</td>\n",
       "      <td>0.017886</td>\n",
       "      <td>0.014396</td>\n",
       "      <td>0.025149</td>\n",
       "      <td>0.016698</td>\n",
       "      <td>0.019563</td>\n",
       "      <td>0.013314</td>\n",
       "      <td>b</td>\n",
       "      <td>Rural</td>\n",
       "      <td>Noncore adjacent to a small metro and does not...</td>\n",
       "      <td>Recreation</td>\n",
       "    </tr>\n",
       "    <tr>\n",
       "      <th>3</th>\n",
       "      <td>0.006504</td>\n",
       "      <td>0.024944</td>\n",
       "      <td>0.016763</td>\n",
       "      <td>0.021942</td>\n",
       "      <td>0.027915</td>\n",
       "      <td>0.009526</td>\n",
       "      <td>0.141646</td>\n",
       "      <td>0.021209</td>\n",
       "      <td>0.028169</td>\n",
       "      <td>0.037923</td>\n",
       "      <td>...</td>\n",
       "      <td>0.020583</td>\n",
       "      <td>0.022807</td>\n",
       "      <td>0.030221</td>\n",
       "      <td>0.018437</td>\n",
       "      <td>0.018831</td>\n",
       "      <td>0.022130</td>\n",
       "      <td>a</td>\n",
       "      <td>Urban</td>\n",
       "      <td>Micropolitan adjacent to a small metro area</td>\n",
       "      <td>Nonspecialized</td>\n",
       "    </tr>\n",
       "    <tr>\n",
       "      <th>4</th>\n",
       "      <td>0.000197</td>\n",
       "      <td>0.011945</td>\n",
       "      <td>0.018570</td>\n",
       "      <td>0.020143</td>\n",
       "      <td>0.000596</td>\n",
       "      <td>0.004201</td>\n",
       "      <td>0.005263</td>\n",
       "      <td>0.013822</td>\n",
       "      <td>0.000000</td>\n",
       "      <td>0.015554</td>\n",
       "      <td>...</td>\n",
       "      <td>0.019314</td>\n",
       "      <td>0.016997</td>\n",
       "      <td>0.007139</td>\n",
       "      <td>0.015209</td>\n",
       "      <td>0.026840</td>\n",
       "      <td>0.010250</td>\n",
       "      <td>a</td>\n",
       "      <td>Counties</td>\n",
       "      <td>Small-in a metro area with fewer than 1 millio...</td>\n",
       "      <td>Federal/State government-dependent</td>\n",
       "    </tr>\n",
       "  </tbody>\n",
       "</table>\n",
       "<p>5 rows × 26 columns</p>\n",
       "</div>"
      ],
      "text/plain": [
       "   renter_occupied_households  pct_renter_occupied  median_gross_rent  \\\n",
       "0                    0.002484             0.025221           0.017875   \n",
       "1                    0.000438             0.021531           0.014372   \n",
       "2                    0.000617             0.014890           0.018653   \n",
       "3                    0.006504             0.024944           0.016763   \n",
       "4                    0.000197             0.011945           0.018570   \n",
       "\n",
       "   rent_burden  pct_af_am  pct_hispanic  pct_am_ind  pct_multiple  pct_other  \\\n",
       "0     0.022924   0.057196      0.008249    0.000970      0.013199   0.009978   \n",
       "1     0.018178   0.001807      0.004397    0.027541      0.023416   0.000000   \n",
       "2     0.022314   0.004757      0.005514    0.001688      0.023817   0.002007   \n",
       "3     0.021942   0.027915      0.009526    0.141646      0.021209   0.028169   \n",
       "4     0.020143   0.000596      0.004201    0.005263      0.013822   0.000000   \n",
       "\n",
       "   poverty_rate                 ...                  pct_female  \\\n",
       "0      0.026887                 ...                    0.021099   \n",
       "1      0.017373                 ...                    0.020187   \n",
       "2      0.017316                 ...                    0.017886   \n",
       "3      0.037923                 ...                    0.020583   \n",
       "4      0.015554                 ...                    0.019314   \n",
       "\n",
       "   pct_below_18_years_of_age  pct_adults_less_than_a_high_school_diploma  \\\n",
       "0                   0.021854                                    0.028364   \n",
       "1                   0.021854                                    0.008922   \n",
       "2                   0.014396                                    0.025149   \n",
       "3                   0.022807                                    0.030221   \n",
       "4                   0.016997                                    0.007139   \n",
       "\n",
       "   pct_adults_with_high_school_diploma  pct_adults_with_some_college  \\\n",
       "0                             0.020639                      0.018044   \n",
       "1                             0.021882                      0.021505   \n",
       "2                             0.016698                      0.019563   \n",
       "3                             0.018437                      0.018831   \n",
       "4                             0.015209                      0.026840   \n",
       "\n",
       "   birth_rate_per_1k  year      rucc  \\\n",
       "0           0.021756     b     Urban   \n",
       "1           0.018613     a     Urban   \n",
       "2           0.013314     b     Rural   \n",
       "3           0.022130     a     Urban   \n",
       "4           0.010250     a  Counties   \n",
       "\n",
       "                                     urban_influence  \\\n",
       "0        Micropolitan adjacent to a large metro area   \n",
       "1  Noncore adjacent to a small metro with town of...   \n",
       "2  Noncore adjacent to a small metro and does not...   \n",
       "3        Micropolitan adjacent to a small metro area   \n",
       "4  Small-in a metro area with fewer than 1 millio...   \n",
       "\n",
       "                    economic_typology  \n",
       "0                      Nonspecialized  \n",
       "1                      Nonspecialized  \n",
       "2                          Recreation  \n",
       "3                      Nonspecialized  \n",
       "4  Federal/State government-dependent  \n",
       "\n",
       "[5 rows x 26 columns]"
      ]
     },
     "execution_count": 6,
     "metadata": {},
     "output_type": "execute_result"
    }
   ],
   "source": [
    "df.head()"
   ]
  },
  {
   "cell_type": "markdown",
   "metadata": {},
   "source": [
    "### Encode categorical featured"
   ]
  },
  {
   "cell_type": "code",
   "execution_count": 7,
   "metadata": {},
   "outputs": [
    {
     "name": "stdout",
     "output_type": "stream",
     "text": [
      "['Urban' 'Rural' 'Counties']\n",
      "[2 2 1 ... 0 2 0]\n"
     ]
    }
   ],
   "source": [
    "print(df['rucc'].unique())\n",
    "Features = df['rucc']\n",
    "enc = preprocessing.LabelEncoder()\n",
    "enc.fit(Features)\n",
    "Features = enc.transform(Features)\n",
    "print(Features)"
   ]
  },
  {
   "cell_type": "code",
   "execution_count": 8,
   "metadata": {},
   "outputs": [
    {
     "name": "stderr",
     "output_type": "stream",
     "text": [
      "C:\\Users\\esteban.londono\\AppData\\Local\\Continuum\\anaconda3\\envs\\ML_Platzi\\lib\\site-packages\\sklearn\\preprocessing\\_encoders.py:368: FutureWarning: The handling of integer data will change in version 0.22. Currently, the categories are determined based on the range [0, max(values)], while in the future they will be determined based on the unique values.\n",
      "If you want the future behaviour and silence this warning, you can specify \"categories='auto'\".\n",
      "In case you used a LabelEncoder before this OneHotEncoder to convert the categories to integers, then you can now use the OneHotEncoder directly.\n",
      "  warnings.warn(msg, FutureWarning)\n"
     ]
    },
    {
     "data": {
      "text/plain": [
       "array([[0., 0., 1.],\n",
       "       [0., 0., 1.],\n",
       "       [0., 1., 0.],\n",
       "       [0., 0., 1.],\n",
       "       [1., 0., 0.],\n",
       "       [1., 0., 0.],\n",
       "       [0., 0., 1.],\n",
       "       [1., 0., 0.],\n",
       "       [0., 0., 1.],\n",
       "       [1., 0., 0.]])"
      ]
     },
     "execution_count": 8,
     "metadata": {},
     "output_type": "execute_result"
    }
   ],
   "source": [
    "ohe = preprocessing.OneHotEncoder()\n",
    "encoded = ohe.fit(Features.reshape(-1,1))\n",
    "Features = encoded.transform(Features.reshape(-1,1)).toarray()\n",
    "Features[:10,:]"
   ]
  },
  {
   "cell_type": "code",
   "execution_count": 9,
   "metadata": {
    "scrolled": true
   },
   "outputs": [
    {
     "name": "stdout",
     "output_type": "stream",
     "text": [
      "(2546, 11)\n",
      "[[0. 0. 1. 0. 0. 0. 0. 1. 0. 0. 1.]\n",
      " [0. 0. 1. 0. 0. 0. 0. 1. 0. 1. 0.]]\n"
     ]
    },
    {
     "name": "stderr",
     "output_type": "stream",
     "text": [
      "C:\\Users\\esteban.londono\\AppData\\Local\\Continuum\\anaconda3\\envs\\ML_Platzi\\lib\\site-packages\\sklearn\\preprocessing\\_encoders.py:368: FutureWarning: The handling of integer data will change in version 0.22. Currently, the categories are determined based on the range [0, max(values)], while in the future they will be determined based on the unique values.\n",
      "If you want the future behaviour and silence this warning, you can specify \"categories='auto'\".\n",
      "In case you used a LabelEncoder before this OneHotEncoder to convert the categories to integers, then you can now use the OneHotEncoder directly.\n",
      "  warnings.warn(msg, FutureWarning)\n",
      "C:\\Users\\esteban.londono\\AppData\\Local\\Continuum\\anaconda3\\envs\\ML_Platzi\\lib\\site-packages\\sklearn\\preprocessing\\_encoders.py:368: FutureWarning: The handling of integer data will change in version 0.22. Currently, the categories are determined based on the range [0, max(values)], while in the future they will be determined based on the unique values.\n",
      "If you want the future behaviour and silence this warning, you can specify \"categories='auto'\".\n",
      "In case you used a LabelEncoder before this OneHotEncoder to convert the categories to integers, then you can now use the OneHotEncoder directly.\n",
      "  warnings.warn(msg, FutureWarning)\n"
     ]
    }
   ],
   "source": [
    "def encode_string(cat_feature):\n",
    "    ## First encode the strings to numeric categories\n",
    "    enc = preprocessing.LabelEncoder()\n",
    "    enc.fit(cat_feature)\n",
    "    enc_cat_feature = enc.transform(cat_feature)\n",
    "    ## Now, apply one hot encoding\n",
    "    ohe = preprocessing.OneHotEncoder()\n",
    "    encoded = ohe.fit(enc_cat_feature.reshape(-1,1))\n",
    "    return encoded.transform(enc_cat_feature.reshape(-1,1)).toarray()\n",
    "    \n",
    "categorical_columns= ['economic_typology','year']\n",
    "\n",
    "for col in categorical_columns:\n",
    "    temp = encode_string(df[col])\n",
    "    Features = np.concatenate([Features, temp], axis = 1)\n",
    "\n",
    "print(Features.shape)\n",
    "print(Features[:2, :])    "
   ]
  },
  {
   "cell_type": "code",
   "execution_count": 10,
   "metadata": {},
   "outputs": [],
   "source": [
    "numcols= df.dtypes[df.dtypes != \"object\"].index"
   ]
  },
  {
   "cell_type": "code",
   "execution_count": 11,
   "metadata": {},
   "outputs": [
    {
     "data": {
      "text/plain": [
       "['renter_occupied_households',\n",
       " 'pct_renter_occupied',\n",
       " 'median_gross_rent',\n",
       " 'rent_burden',\n",
       " 'pct_af_am',\n",
       " 'pct_hispanic',\n",
       " 'pct_am_ind',\n",
       " 'pct_multiple',\n",
       " 'pct_other',\n",
       " 'poverty_rate',\n",
       " 'pct_unemployment',\n",
       " 'pct_uninsured_adults',\n",
       " 'pct_uninsured_children',\n",
       " 'pct_adult_obesity',\n",
       " 'pct_diabetes',\n",
       " 'heart_disease_mortality_per_100k',\n",
       " 'pct_female',\n",
       " 'pct_below_18_years_of_age',\n",
       " 'pct_adults_less_than_a_high_school_diploma',\n",
       " 'pct_adults_with_high_school_diploma',\n",
       " 'pct_adults_with_some_college',\n",
       " 'birth_rate_per_1k']"
      ]
     },
     "execution_count": 11,
     "metadata": {},
     "output_type": "execute_result"
    }
   ],
   "source": [
    "list(numcols)"
   ]
  },
  {
   "cell_type": "code",
   "execution_count": 14,
   "metadata": {},
   "outputs": [],
   "source": [
    "x = np.concatenate([df[numcols],Features],axis=1)"
   ]
  },
  {
   "cell_type": "code",
   "execution_count": 15,
   "metadata": {},
   "outputs": [],
   "source": [
    "y=np.array(y)"
   ]
  },
  {
   "cell_type": "code",
   "execution_count": 16,
   "metadata": {},
   "outputs": [
    {
     "name": "stdout",
     "output_type": "stream",
     "text": [
      "(2546, 33)\n",
      "(2546,)\n"
     ]
    }
   ],
   "source": [
    "print(x.shape)\n",
    "print(y.shape)"
   ]
  },
  {
   "cell_type": "code",
   "execution_count": 17,
   "metadata": {},
   "outputs": [],
   "source": [
    "# splt train test\n",
    "nr.seed(9988)\n",
    "x_train, x_test, y_train, y_test = train_test_split(x,y)"
   ]
  },
  {
   "cell_type": "markdown",
   "metadata": {},
   "source": [
    "## Train models selected"
   ]
  },
  {
   "cell_type": "code",
   "execution_count": 18,
   "metadata": {},
   "outputs": [],
   "source": [
    "Boosting_mod = GradientBoostingRegressor (learning_rate=0.1)\n",
    "Forest_mod = RandomForestRegressor()"
   ]
  },
  {
   "cell_type": "code",
   "execution_count": null,
   "metadata": {},
   "outputs": [],
   "source": []
  },
  {
   "cell_type": "code",
   "execution_count": null,
   "metadata": {},
   "outputs": [],
   "source": []
  },
  {
   "cell_type": "code",
   "execution_count": null,
   "metadata": {},
   "outputs": [],
   "source": []
  },
  {
   "cell_type": "code",
   "execution_count": 19,
   "metadata": {},
   "outputs": [
    {
     "name": "stderr",
     "output_type": "stream",
     "text": [
      "C:\\Users\\esteban.londono\\AppData\\Local\\Continuum\\anaconda3\\envs\\ML_Platzi\\lib\\site-packages\\sklearn\\ensemble\\forest.py:246: FutureWarning: The default value of n_estimators will change from 10 in version 0.20 to 100 in 0.22.\n",
      "  \"10 in version 0.20 to 100 in 0.22.\", FutureWarning)\n"
     ]
    },
    {
     "data": {
      "text/plain": [
       "RandomForestRegressor(bootstrap=True, criterion='mse', max_depth=None,\n",
       "           max_features='auto', max_leaf_nodes=None,\n",
       "           min_impurity_decrease=0.0, min_impurity_split=None,\n",
       "           min_samples_leaf=1, min_samples_split=2,\n",
       "           min_weight_fraction_leaf=0.0, n_estimators=10, n_jobs=None,\n",
       "           oob_score=False, random_state=None, verbose=0, warm_start=False)"
      ]
     },
     "execution_count": 19,
     "metadata": {},
     "output_type": "execute_result"
    }
   ],
   "source": [
    "Boosting_mod.fit(x_train,y_train)\n",
    "Forest_mod.fit(x_train,y_train)"
   ]
  },
  {
   "cell_type": "code",
   "execution_count": 20,
   "metadata": {},
   "outputs": [
    {
     "name": "stdout",
     "output_type": "stream",
     "text": [
      "0.8495203770608619\n",
      "0.8591908047601974\n"
     ]
    }
   ],
   "source": [
    "print(Boosting_mod.score(x_test,y_test))\n",
    "print(Forest_mod.score(x_test,y_test))"
   ]
  },
  {
   "cell_type": "code",
   "execution_count": 21,
   "metadata": {},
   "outputs": [],
   "source": [
    "def print_metrics(y_true, y_predicted, n_parameters):\n",
    "    ## First compute R^2 and the adjusted R^2\n",
    "    r2 = sklm.r2_score(y_true, y_predicted)\n",
    "    r2_adj = r2 - (n_parameters - 1)/(y_true.shape[0] - n_parameters) * (1 - r2)\n",
    "    \n",
    "    ## Print the usual metrics and the R^2 values\n",
    "    print('Mean Square Error      = ' + str(sklm.mean_squared_error(y_true, y_predicted)))\n",
    "    print('Root Mean Square Error = ' + str(math.sqrt(sklm.mean_squared_error(y_true, y_predicted))))\n",
    "    print('Mean Absolute Error    = ' + str(sklm.mean_absolute_error(y_true, y_predicted)))\n",
    "    print('Median Absolute Error  = ' + str(sklm.median_absolute_error(y_true, y_predicted)))\n",
    "    print('R^2                    = ' + str(r2))\n",
    "    print('Adjusted R^2           = ' + str(r2_adj))\n",
    "   \n",
    "\n",
    "y_Boosting = Boosting_mod.predict(x_test)\n",
    "y_Forest = Forest_mod.predict(x_test)\n",
    "\n",
    "   "
   ]
  },
  {
   "cell_type": "code",
   "execution_count": 22,
   "metadata": {},
   "outputs": [
    {
     "name": "stdout",
     "output_type": "stream",
     "text": [
      "Mean Square Error      = 0.7708205448359451\n",
      "Root Mean Square Error = 0.8779638630581245\n",
      "Mean Absolute Error    = 0.6416124553752368\n",
      "Median Absolute Error  = 0.47777104232372025\n",
      "R^2                    = 0.8495203770608619\n",
      "Adjusted R^2           = 0.8428488666842499\n",
      "Mean Square Error      = 0.7212845066508069\n",
      "Root Mean Square Error = 0.8492847029417208\n",
      "Mean Absolute Error    = 0.6081633612470605\n",
      "Median Absolute Error  = 0.42928332449449425\n",
      "R^2                    = 0.8591908047601974\n",
      "Adjusted R^2           = 0.8529480325574476\n"
     ]
    }
   ],
   "source": [
    "print_metrics(y_test, y_Boosting, 28)\n",
    "print_metrics(y_test, y_Forest, 28)"
   ]
  },
  {
   "cell_type": "code",
   "execution_count": 23,
   "metadata": {},
   "outputs": [],
   "source": [
    "# cross validation\n",
    "Results_Boosting = cross_validate(Boosting_mod,x,y,scoring=\"r2\",cv=5)\n",
    "Results_Forest = cross_validate(Forest_mod,x,y,scoring=\"r2\",cv=5)\n"
   ]
  },
  {
   "cell_type": "code",
   "execution_count": 24,
   "metadata": {},
   "outputs": [
    {
     "name": "stdout",
     "output_type": "stream",
     "text": [
      "0.9080295949183164\n",
      "0.861692686997999\n",
      "0.9759867505485171\n",
      "0.8770043271673703\n"
     ]
    },
    {
     "name": "stderr",
     "output_type": "stream",
     "text": [
      "C:\\Users\\esteban.londono\\AppData\\Local\\Continuum\\anaconda3\\envs\\ML_Platzi\\lib\\site-packages\\sklearn\\utils\\deprecation.py:125: FutureWarning: You are accessing a training score ('train_score'), which will not be available by default any more in 0.21. If you need training scores, please set return_train_score=True\n",
      "  warnings.warn(*warn_args, **warn_kwargs)\n"
     ]
    }
   ],
   "source": [
    "Boosting_test_scores = Results_Boosting['test_score']\n",
    "Boosting_train_scores = Results_Boosting['train_score']\n",
    "Forest_test_scores = Results_Forest['test_score']\n",
    "Forest_train_scores = Results_Forest['train_score']\n",
    "\n",
    "print(np.mean(Boosting_train_scores))\n",
    "print(np.mean(Boosting_test_scores))\n",
    "print(np.mean(Forest_train_scores))\n",
    "print(np.mean(Forest_test_scores))"
   ]
  },
  {
   "cell_type": "code",
   "execution_count": 25,
   "metadata": {},
   "outputs": [],
   "source": [
    "nr.seed(123)\n",
    "inside = ms.KFold(n_splits=5, shuffle = True)\n",
    "nr.seed(321)\n",
    "outside = ms.KFold(n_splits=5, shuffle = True)"
   ]
  },
  {
   "cell_type": "code",
   "execution_count": 26,
   "metadata": {},
   "outputs": [],
   "source": [
    "nr.seed(3456)\n",
    "## Define the dictionary for the grid search and the model object to search on\n",
    "param_grid_Boosting = {\"n_estimators\": range(20,501,20)}\n",
    "param_grid_Forest = {\"n_estimators\": range(20,501,20)}\n",
    "\n",
    "## Perform the grid search over the parameters\n",
    "Grid_Boosting = ms.GridSearchCV(estimator = Boosting_mod, param_grid = param_grid_Boosting, \n",
    "                      cv = inside, # Use the inside folds\n",
    "                      scoring = 'r2',\n",
    "                      return_train_score = True)\n",
    "\n",
    "Grid_Forest = ms.GridSearchCV(estimator = Forest_mod, param_grid = param_grid_Forest, \n",
    "                      cv = inside, # Use the inside folds\n",
    "                      scoring = 'r2',\n",
    "                      return_train_score = True)\n"
   ]
  },
  {
   "cell_type": "code",
   "execution_count": 27,
   "metadata": {},
   "outputs": [
    {
     "data": {
      "text/plain": [
       "GridSearchCV(cv=KFold(n_splits=5, random_state=None, shuffle=True),\n",
       "       error_score='raise-deprecating',\n",
       "       estimator=RandomForestRegressor(bootstrap=True, criterion='mse', max_depth=None,\n",
       "           max_features='auto', max_leaf_nodes=None,\n",
       "           min_impurity_decrease=0.0, min_impurity_split=None,\n",
       "           min_samples_leaf=1, min_samples_split=2,\n",
       "           min_weight_fraction_leaf=0.0, n_estimators=10, n_jobs=None,\n",
       "           oob_score=False, random_state=None, verbose=0, warm_start=False),\n",
       "       fit_params=None, iid='warn', n_jobs=None,\n",
       "       param_grid={'n_estimators': range(20, 501, 20)},\n",
       "       pre_dispatch='2*n_jobs', refit=True, return_train_score=True,\n",
       "       scoring='r2', verbose=0)"
      ]
     },
     "execution_count": 27,
     "metadata": {},
     "output_type": "execute_result"
    }
   ],
   "source": [
    "## Fit thhe cross validated grid search over the data \n",
    "Grid_Boosting.fit(x,y)\n",
    "Grid_Forest.fit(x,y)\n",
    "\n"
   ]
  },
  {
   "cell_type": "code",
   "execution_count": 28,
   "metadata": {},
   "outputs": [
    {
     "data": {
      "text/plain": [
       "({'n_estimators': 500}, 0.8758794120048428)"
      ]
     },
     "execution_count": 28,
     "metadata": {},
     "output_type": "execute_result"
    }
   ],
   "source": [
    " Grid_Boosting.best_params_, Grid_Boosting.best_score_"
   ]
  },
  {
   "cell_type": "code",
   "execution_count": 29,
   "metadata": {},
   "outputs": [
    {
     "data": {
      "text/plain": [
       "({'n_estimators': 440}, 0.8856713891453629)"
      ]
     },
     "execution_count": 29,
     "metadata": {},
     "output_type": "execute_result"
    }
   ],
   "source": [
    "Grid_Forest.best_params_, Grid_Forest.best_score_"
   ]
  },
  {
   "cell_type": "code",
   "execution_count": 30,
   "metadata": {},
   "outputs": [
    {
     "name": "stderr",
     "output_type": "stream",
     "text": [
      "C:\\Users\\esteban.londono\\AppData\\Local\\Continuum\\anaconda3\\envs\\ML_Platzi\\lib\\site-packages\\sklearn\\model_selection\\_split.py:2053: FutureWarning: You should specify a value for 'cv' instead of relying on the default value. The default value will change from 3 to 5 in version 0.22.\n",
      "  warnings.warn(CV_WARNING, FutureWarning)\n",
      "C:\\Users\\esteban.londono\\AppData\\Local\\Continuum\\anaconda3\\envs\\ML_Platzi\\lib\\site-packages\\sklearn\\model_selection\\_split.py:2053: FutureWarning: You should specify a value for 'cv' instead of relying on the default value. The default value will change from 3 to 5 in version 0.22.\n",
      "  warnings.warn(CV_WARNING, FutureWarning)\n"
     ]
    }
   ],
   "source": [
    "final_results_Boosting = cross_validate(Grid_Boosting.best_estimator_,x_train,y_train)\n",
    "final_results_Forest = cross_validate(Grid_Forest.best_estimator_,x_train,y_train)"
   ]
  },
  {
   "cell_type": "code",
   "execution_count": 31,
   "metadata": {},
   "outputs": [
    {
     "name": "stdout",
     "output_type": "stream",
     "text": [
      "0.987865579882197\n",
      "0.8527832861488114\n"
     ]
    },
    {
     "name": "stderr",
     "output_type": "stream",
     "text": [
      "C:\\Users\\esteban.londono\\AppData\\Local\\Continuum\\anaconda3\\envs\\ML_Platzi\\lib\\site-packages\\sklearn\\utils\\deprecation.py:125: FutureWarning: You are accessing a training score ('train_score'), which will not be available by default any more in 0.21. If you need training scores, please set return_train_score=True\n",
      "  warnings.warn(*warn_args, **warn_kwargs)\n"
     ]
    }
   ],
   "source": [
    "test_scores_Boosting = final_results_Boosting['test_score']\n",
    "train_scores_Boosting = final_results_Boosting['train_score']\n",
    "print(np.mean(train_scores_Boosting))\n",
    "print(np.mean(test_scores_Boosting))"
   ]
  },
  {
   "cell_type": "code",
   "execution_count": 32,
   "metadata": {},
   "outputs": [
    {
     "name": "stdout",
     "output_type": "stream",
     "text": [
      "0.982048201682257\n",
      "0.8660344372205239\n"
     ]
    }
   ],
   "source": [
    "test_scores_Forest = final_results_Forest['test_score']\n",
    "train_scores_Forest = final_results_Forest['train_score']\n",
    "print(np.mean(train_scores_Forest))\n",
    "print(np.mean(test_scores_Forest))"
   ]
  },
  {
   "cell_type": "code",
   "execution_count": 33,
   "metadata": {},
   "outputs": [
    {
     "data": {
      "text/plain": [
       "GradientBoostingRegressor(alpha=0.9, criterion='friedman_mse', init=None,\n",
       "             learning_rate=0.1, loss='ls', max_depth=3, max_features=None,\n",
       "             max_leaf_nodes=None, min_impurity_decrease=0.0,\n",
       "             min_impurity_split=None, min_samples_leaf=1,\n",
       "             min_samples_split=2, min_weight_fraction_leaf=0.0,\n",
       "             n_estimators=500, n_iter_no_change=None, presort='auto',\n",
       "             random_state=None, subsample=1.0, tol=0.0001,\n",
       "             validation_fraction=0.1, verbose=0, warm_start=False)"
      ]
     },
     "execution_count": 33,
     "metadata": {},
     "output_type": "execute_result"
    }
   ],
   "source": [
    "estimator = GradientBoostingRegressor(learning_rate=0.1,\n",
    "                                      n_estimators=500)\n",
    "estimator.fit(x_train,y_train)"
   ]
  },
  {
   "cell_type": "code",
   "execution_count": 34,
   "metadata": {},
   "outputs": [
    {
     "data": {
      "text/plain": [
       "0.8726334882441518"
      ]
     },
     "execution_count": 34,
     "metadata": {},
     "output_type": "execute_result"
    }
   ],
   "source": [
    "estimator.score(x_test,y_test)"
   ]
  },
  {
   "cell_type": "code",
   "execution_count": 35,
   "metadata": {},
   "outputs": [
    {
     "data": {
      "text/plain": [
       "RandomForestRegressor(bootstrap=True, criterion='mse', max_depth=None,\n",
       "           max_features='auto', max_leaf_nodes=None,\n",
       "           min_impurity_decrease=0.0, min_impurity_split=None,\n",
       "           min_samples_leaf=1, min_samples_split=2,\n",
       "           min_weight_fraction_leaf=0.0, n_estimators=440, n_jobs=None,\n",
       "           oob_score=False, random_state=None, verbose=0, warm_start=False)"
      ]
     },
     "execution_count": 35,
     "metadata": {},
     "output_type": "execute_result"
    }
   ],
   "source": [
    "estimator2= RandomForestRegressor(n_estimators=440)\n",
    "estimator2.fit(x_train,y_train)"
   ]
  },
  {
   "cell_type": "code",
   "execution_count": 36,
   "metadata": {},
   "outputs": [
    {
     "data": {
      "text/plain": [
       "0.8735142254144427"
      ]
     },
     "execution_count": 36,
     "metadata": {},
     "output_type": "execute_result"
    }
   ],
   "source": [
    "estimator2.score(x_test,y_test)"
   ]
  },
  {
   "cell_type": "markdown",
   "metadata": {},
   "source": [
    "### prediction"
   ]
  },
  {
   "cell_type": "code",
   "execution_count": 37,
   "metadata": {},
   "outputs": [],
   "source": [
    "test_values_processed=np.array(pd.read_csv('test_values_processed.csv', header=None))\n"
   ]
  },
  {
   "cell_type": "code",
   "execution_count": 43,
   "metadata": {},
   "outputs": [
    {
     "data": {
      "text/plain": [
       "array([6.1359712 , 4.39232925, 0.67385261, ..., 5.99436803, 5.43793471,\n",
       "       5.56173857])"
      ]
     },
     "execution_count": 43,
     "metadata": {},
     "output_type": "execute_result"
    }
   ],
   "source": [
    "estimator2.predict(test_values_processed)"
   ]
  },
  {
   "cell_type": "code",
   "execution_count": 44,
   "metadata": {},
   "outputs": [],
   "source": [
    "prediccion=pd.DataFrame(estimator2.predict(test_values_processed),columns=['evictions'])\n",
    "prediccion.index.names=['row_id']"
   ]
  },
  {
   "cell_type": "code",
   "execution_count": 45,
   "metadata": {},
   "outputs": [],
   "source": [
    "prediccion['evictions']=np.expm1(prediccion['evictions'])"
   ]
  },
  {
   "cell_type": "code",
   "execution_count": 46,
   "metadata": {},
   "outputs": [
    {
     "data": {
      "text/html": [
       "<div>\n",
       "<style scoped>\n",
       "    .dataframe tbody tr th:only-of-type {\n",
       "        vertical-align: middle;\n",
       "    }\n",
       "\n",
       "    .dataframe tbody tr th {\n",
       "        vertical-align: top;\n",
       "    }\n",
       "\n",
       "    .dataframe thead th {\n",
       "        text-align: right;\n",
       "    }\n",
       "</style>\n",
       "<table border=\"1\" class=\"dataframe\">\n",
       "  <thead>\n",
       "    <tr style=\"text-align: right;\">\n",
       "      <th></th>\n",
       "      <th>evictions</th>\n",
       "    </tr>\n",
       "    <tr>\n",
       "      <th>row_id</th>\n",
       "      <th></th>\n",
       "    </tr>\n",
       "  </thead>\n",
       "  <tbody>\n",
       "    <tr>\n",
       "      <th>0</th>\n",
       "      <td>461</td>\n",
       "    </tr>\n",
       "    <tr>\n",
       "      <th>1</th>\n",
       "      <td>79</td>\n",
       "    </tr>\n",
       "    <tr>\n",
       "      <th>2</th>\n",
       "      <td>0</td>\n",
       "    </tr>\n",
       "    <tr>\n",
       "      <th>3</th>\n",
       "      <td>8</td>\n",
       "    </tr>\n",
       "    <tr>\n",
       "      <th>4</th>\n",
       "      <td>198</td>\n",
       "    </tr>\n",
       "    <tr>\n",
       "      <th>5</th>\n",
       "      <td>324</td>\n",
       "    </tr>\n",
       "    <tr>\n",
       "      <th>6</th>\n",
       "      <td>1</td>\n",
       "    </tr>\n",
       "    <tr>\n",
       "      <th>7</th>\n",
       "      <td>50</td>\n",
       "    </tr>\n",
       "    <tr>\n",
       "      <th>8</th>\n",
       "      <td>1280</td>\n",
       "    </tr>\n",
       "    <tr>\n",
       "      <th>9</th>\n",
       "      <td>37</td>\n",
       "    </tr>\n",
       "    <tr>\n",
       "      <th>10</th>\n",
       "      <td>2175</td>\n",
       "    </tr>\n",
       "    <tr>\n",
       "      <th>11</th>\n",
       "      <td>6</td>\n",
       "    </tr>\n",
       "    <tr>\n",
       "      <th>12</th>\n",
       "      <td>30</td>\n",
       "    </tr>\n",
       "    <tr>\n",
       "      <th>13</th>\n",
       "      <td>3</td>\n",
       "    </tr>\n",
       "    <tr>\n",
       "      <th>14</th>\n",
       "      <td>25</td>\n",
       "    </tr>\n",
       "    <tr>\n",
       "      <th>15</th>\n",
       "      <td>1356</td>\n",
       "    </tr>\n",
       "    <tr>\n",
       "      <th>16</th>\n",
       "      <td>254</td>\n",
       "    </tr>\n",
       "    <tr>\n",
       "      <th>17</th>\n",
       "      <td>4</td>\n",
       "    </tr>\n",
       "    <tr>\n",
       "      <th>18</th>\n",
       "      <td>25</td>\n",
       "    </tr>\n",
       "    <tr>\n",
       "      <th>19</th>\n",
       "      <td>4</td>\n",
       "    </tr>\n",
       "    <tr>\n",
       "      <th>20</th>\n",
       "      <td>79</td>\n",
       "    </tr>\n",
       "    <tr>\n",
       "      <th>21</th>\n",
       "      <td>712</td>\n",
       "    </tr>\n",
       "    <tr>\n",
       "      <th>22</th>\n",
       "      <td>0</td>\n",
       "    </tr>\n",
       "    <tr>\n",
       "      <th>23</th>\n",
       "      <td>9</td>\n",
       "    </tr>\n",
       "    <tr>\n",
       "      <th>24</th>\n",
       "      <td>319</td>\n",
       "    </tr>\n",
       "    <tr>\n",
       "      <th>25</th>\n",
       "      <td>7</td>\n",
       "    </tr>\n",
       "    <tr>\n",
       "      <th>26</th>\n",
       "      <td>360</td>\n",
       "    </tr>\n",
       "    <tr>\n",
       "      <th>27</th>\n",
       "      <td>2</td>\n",
       "    </tr>\n",
       "    <tr>\n",
       "      <th>28</th>\n",
       "      <td>4</td>\n",
       "    </tr>\n",
       "    <tr>\n",
       "      <th>29</th>\n",
       "      <td>1773</td>\n",
       "    </tr>\n",
       "    <tr>\n",
       "      <th>...</th>\n",
       "      <td>...</td>\n",
       "    </tr>\n",
       "    <tr>\n",
       "      <th>2390</th>\n",
       "      <td>9</td>\n",
       "    </tr>\n",
       "    <tr>\n",
       "      <th>2391</th>\n",
       "      <td>54</td>\n",
       "    </tr>\n",
       "    <tr>\n",
       "      <th>2392</th>\n",
       "      <td>80</td>\n",
       "    </tr>\n",
       "    <tr>\n",
       "      <th>2393</th>\n",
       "      <td>6</td>\n",
       "    </tr>\n",
       "    <tr>\n",
       "      <th>2394</th>\n",
       "      <td>1</td>\n",
       "    </tr>\n",
       "    <tr>\n",
       "      <th>2395</th>\n",
       "      <td>117</td>\n",
       "    </tr>\n",
       "    <tr>\n",
       "      <th>2396</th>\n",
       "      <td>5</td>\n",
       "    </tr>\n",
       "    <tr>\n",
       "      <th>2397</th>\n",
       "      <td>530</td>\n",
       "    </tr>\n",
       "    <tr>\n",
       "      <th>2398</th>\n",
       "      <td>0</td>\n",
       "    </tr>\n",
       "    <tr>\n",
       "      <th>2399</th>\n",
       "      <td>0</td>\n",
       "    </tr>\n",
       "    <tr>\n",
       "      <th>2400</th>\n",
       "      <td>0</td>\n",
       "    </tr>\n",
       "    <tr>\n",
       "      <th>2401</th>\n",
       "      <td>0</td>\n",
       "    </tr>\n",
       "    <tr>\n",
       "      <th>2402</th>\n",
       "      <td>6</td>\n",
       "    </tr>\n",
       "    <tr>\n",
       "      <th>2403</th>\n",
       "      <td>12</td>\n",
       "    </tr>\n",
       "    <tr>\n",
       "      <th>2404</th>\n",
       "      <td>27</td>\n",
       "    </tr>\n",
       "    <tr>\n",
       "      <th>2405</th>\n",
       "      <td>2</td>\n",
       "    </tr>\n",
       "    <tr>\n",
       "      <th>2406</th>\n",
       "      <td>2</td>\n",
       "    </tr>\n",
       "    <tr>\n",
       "      <th>2407</th>\n",
       "      <td>0</td>\n",
       "    </tr>\n",
       "    <tr>\n",
       "      <th>2408</th>\n",
       "      <td>4</td>\n",
       "    </tr>\n",
       "    <tr>\n",
       "      <th>2409</th>\n",
       "      <td>61</td>\n",
       "    </tr>\n",
       "    <tr>\n",
       "      <th>2410</th>\n",
       "      <td>21</td>\n",
       "    </tr>\n",
       "    <tr>\n",
       "      <th>2411</th>\n",
       "      <td>10</td>\n",
       "    </tr>\n",
       "    <tr>\n",
       "      <th>2412</th>\n",
       "      <td>16</td>\n",
       "    </tr>\n",
       "    <tr>\n",
       "      <th>2413</th>\n",
       "      <td>125</td>\n",
       "    </tr>\n",
       "    <tr>\n",
       "      <th>2414</th>\n",
       "      <td>8</td>\n",
       "    </tr>\n",
       "    <tr>\n",
       "      <th>2415</th>\n",
       "      <td>31</td>\n",
       "    </tr>\n",
       "    <tr>\n",
       "      <th>2416</th>\n",
       "      <td>94</td>\n",
       "    </tr>\n",
       "    <tr>\n",
       "      <th>2417</th>\n",
       "      <td>400</td>\n",
       "    </tr>\n",
       "    <tr>\n",
       "      <th>2418</th>\n",
       "      <td>228</td>\n",
       "    </tr>\n",
       "    <tr>\n",
       "      <th>2419</th>\n",
       "      <td>259</td>\n",
       "    </tr>\n",
       "  </tbody>\n",
       "</table>\n",
       "<p>2420 rows × 1 columns</p>\n",
       "</div>"
      ],
      "text/plain": [
       "        evictions\n",
       "row_id           \n",
       "0             461\n",
       "1              79\n",
       "2               0\n",
       "3               8\n",
       "4             198\n",
       "5             324\n",
       "6               1\n",
       "7              50\n",
       "8            1280\n",
       "9              37\n",
       "10           2175\n",
       "11              6\n",
       "12             30\n",
       "13              3\n",
       "14             25\n",
       "15           1356\n",
       "16            254\n",
       "17              4\n",
       "18             25\n",
       "19              4\n",
       "20             79\n",
       "21            712\n",
       "22              0\n",
       "23              9\n",
       "24            319\n",
       "25              7\n",
       "26            360\n",
       "27              2\n",
       "28              4\n",
       "29           1773\n",
       "...           ...\n",
       "2390            9\n",
       "2391           54\n",
       "2392           80\n",
       "2393            6\n",
       "2394            1\n",
       "2395          117\n",
       "2396            5\n",
       "2397          530\n",
       "2398            0\n",
       "2399            0\n",
       "2400            0\n",
       "2401            0\n",
       "2402            6\n",
       "2403           12\n",
       "2404           27\n",
       "2405            2\n",
       "2406            2\n",
       "2407            0\n",
       "2408            4\n",
       "2409           61\n",
       "2410           21\n",
       "2411           10\n",
       "2412           16\n",
       "2413          125\n",
       "2414            8\n",
       "2415           31\n",
       "2416           94\n",
       "2417          400\n",
       "2418          228\n",
       "2419          259\n",
       "\n",
       "[2420 rows x 1 columns]"
      ]
     },
     "execution_count": 46,
     "metadata": {},
     "output_type": "execute_result"
    }
   ],
   "source": [
    "prediccion['evictions']= prediccion['evictions'].astype(np.int64)\n",
    "prediccion"
   ]
  },
  {
   "cell_type": "code",
   "execution_count": 47,
   "metadata": {},
   "outputs": [],
   "source": [
    "prediccion.to_csv('prediccion.csv')"
   ]
  }
 ],
 "metadata": {
  "kernelspec": {
   "display_name": "Python 3",
   "language": "python",
   "name": "python3"
  },
  "language_info": {
   "codemirror_mode": {
    "name": "ipython",
    "version": 3
   },
   "file_extension": ".py",
   "mimetype": "text/x-python",
   "name": "python",
   "nbconvert_exporter": "python",
   "pygments_lexer": "ipython3",
   "version": "3.7.1"
  }
 },
 "nbformat": 4,
 "nbformat_minor": 2
}
