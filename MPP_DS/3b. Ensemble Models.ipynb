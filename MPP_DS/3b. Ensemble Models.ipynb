{
 "cells": [
  {
   "cell_type": "code",
   "execution_count": 1,
   "metadata": {},
   "outputs": [],
   "source": [
    "#Fundamental librarys to math and stats process\n",
    "import numpy as np\n",
    "import numpy.random as nr\n",
    "import scipy.stats as ss\n",
    "import math\n",
    "#data prepared\n",
    "import pandas as pd\n",
    "\n",
    "#ML preprocessi\n",
    "from sklearn import preprocessing\n",
    "from sklearn.preprocessing import StandardScaler\n",
    "import sklearn.model_selection as ms\n",
    "from sklearn.pipeline import make_pipeline\n",
    "from sklearn import feature_selection as fs\n",
    "\n",
    "# ML algorithms models\n",
    "from sklearn import linear_model as lm\n",
    "from sklearn.ensemble import RandomForestRegressor,GradientBoostingRegressor \n",
    "from  xgboost import XGBRegressor\n",
    "\n",
    "# ML Evaluations\n",
    "import sklearn.metrics as sklm\n",
    "from sklearn import metrics\n",
    "from sklearn.model_selection import cross_validate, train_test_split\n",
    "\n",
    "#Ploting\n",
    "import matplotlib.pyplot as plt\n",
    "import seaborn as sns\n",
    "\n",
    "\n",
    "%matplotlib inline\n",
    "\n",
    "import warnings\n",
    "warnings.filterwarnings('ignore')"
   ]
  },
  {
   "cell_type": "code",
   "execution_count": 2,
   "metadata": {},
   "outputs": [],
   "source": [
    "df = (pd.read_csv('df_enc.csv'))\n",
    "x= df.drop(['Unnamed: 0','population','evictions'], axis=1)\n",
    "y= df['evictions']\n"
   ]
  },
  {
   "cell_type": "code",
   "execution_count": 3,
   "metadata": {},
   "outputs": [
    {
     "data": {
      "text/html": [
       "<div>\n",
       "<style scoped>\n",
       "    .dataframe tbody tr th:only-of-type {\n",
       "        vertical-align: middle;\n",
       "    }\n",
       "\n",
       "    .dataframe tbody tr th {\n",
       "        vertical-align: top;\n",
       "    }\n",
       "\n",
       "    .dataframe thead th {\n",
       "        text-align: right;\n",
       "    }\n",
       "</style>\n",
       "<table border=\"1\" class=\"dataframe\">\n",
       "  <thead>\n",
       "    <tr style=\"text-align: right;\">\n",
       "      <th></th>\n",
       "      <th>renter_occupied_households</th>\n",
       "      <th>pct_renter_occupied</th>\n",
       "      <th>median_gross_rent</th>\n",
       "      <th>median_household_income</th>\n",
       "      <th>median_property_value</th>\n",
       "      <th>rent_burden</th>\n",
       "      <th>pct_white</th>\n",
       "      <th>pct_af_am</th>\n",
       "      <th>pct_hispanic</th>\n",
       "      <th>pct_am_ind</th>\n",
       "      <th>...</th>\n",
       "      <th>UI5</th>\n",
       "      <th>UI6</th>\n",
       "      <th>UI7</th>\n",
       "      <th>UI8</th>\n",
       "      <th>UI9</th>\n",
       "      <th>UI10</th>\n",
       "      <th>UI11</th>\n",
       "      <th>UI12</th>\n",
       "      <th>YA</th>\n",
       "      <th>YB</th>\n",
       "    </tr>\n",
       "  </thead>\n",
       "  <tbody>\n",
       "    <tr>\n",
       "      <th>0</th>\n",
       "      <td>6944.0</td>\n",
       "      <td>37.218</td>\n",
       "      <td>643.0</td>\n",
       "      <td>33315.0</td>\n",
       "      <td>98494.0</td>\n",
       "      <td>33.389</td>\n",
       "      <td>0.412070</td>\n",
       "      <td>0.493459</td>\n",
       "      <td>0.070193</td>\n",
       "      <td>0.002588</td>\n",
       "      <td>...</td>\n",
       "      <td>0.0</td>\n",
       "      <td>0.0</td>\n",
       "      <td>0.0</td>\n",
       "      <td>0.0</td>\n",
       "      <td>0.0</td>\n",
       "      <td>0.0</td>\n",
       "      <td>0.0</td>\n",
       "      <td>0.0</td>\n",
       "      <td>0.0</td>\n",
       "      <td>1.0</td>\n",
       "    </tr>\n",
       "    <tr>\n",
       "      <th>1</th>\n",
       "      <td>1224.0</td>\n",
       "      <td>31.773</td>\n",
       "      <td>517.0</td>\n",
       "      <td>43724.0</td>\n",
       "      <td>85444.0</td>\n",
       "      <td>26.477</td>\n",
       "      <td>0.838682</td>\n",
       "      <td>0.015588</td>\n",
       "      <td>0.037419</td>\n",
       "      <td>0.073493</td>\n",
       "      <td>...</td>\n",
       "      <td>0.0</td>\n",
       "      <td>0.0</td>\n",
       "      <td>1.0</td>\n",
       "      <td>0.0</td>\n",
       "      <td>0.0</td>\n",
       "      <td>0.0</td>\n",
       "      <td>0.0</td>\n",
       "      <td>0.0</td>\n",
       "      <td>1.0</td>\n",
       "      <td>0.0</td>\n",
       "    </tr>\n",
       "    <tr>\n",
       "      <th>2</th>\n",
       "      <td>1725.0</td>\n",
       "      <td>21.973</td>\n",
       "      <td>671.0</td>\n",
       "      <td>37777.0</td>\n",
       "      <td>136162.0</td>\n",
       "      <td>32.500</td>\n",
       "      <td>0.873733</td>\n",
       "      <td>0.041040</td>\n",
       "      <td>0.046922</td>\n",
       "      <td>0.004503</td>\n",
       "      <td>...</td>\n",
       "      <td>0.0</td>\n",
       "      <td>1.0</td>\n",
       "      <td>0.0</td>\n",
       "      <td>0.0</td>\n",
       "      <td>0.0</td>\n",
       "      <td>0.0</td>\n",
       "      <td>0.0</td>\n",
       "      <td>0.0</td>\n",
       "      <td>0.0</td>\n",
       "      <td>1.0</td>\n",
       "    </tr>\n",
       "    <tr>\n",
       "      <th>3</th>\n",
       "      <td>18180.0</td>\n",
       "      <td>36.809</td>\n",
       "      <td>603.0</td>\n",
       "      <td>30607.0</td>\n",
       "      <td>70062.0</td>\n",
       "      <td>31.959</td>\n",
       "      <td>0.264083</td>\n",
       "      <td>0.240836</td>\n",
       "      <td>0.081067</td>\n",
       "      <td>0.377986</td>\n",
       "      <td>...</td>\n",
       "      <td>0.0</td>\n",
       "      <td>0.0</td>\n",
       "      <td>0.0</td>\n",
       "      <td>0.0</td>\n",
       "      <td>0.0</td>\n",
       "      <td>0.0</td>\n",
       "      <td>0.0</td>\n",
       "      <td>0.0</td>\n",
       "      <td>1.0</td>\n",
       "      <td>0.0</td>\n",
       "    </tr>\n",
       "    <tr>\n",
       "      <th>4</th>\n",
       "      <td>551.0</td>\n",
       "      <td>17.627</td>\n",
       "      <td>668.0</td>\n",
       "      <td>44237.0</td>\n",
       "      <td>187066.0</td>\n",
       "      <td>29.339</td>\n",
       "      <td>0.924502</td>\n",
       "      <td>0.005146</td>\n",
       "      <td>0.035753</td>\n",
       "      <td>0.014045</td>\n",
       "      <td>...</td>\n",
       "      <td>0.0</td>\n",
       "      <td>0.0</td>\n",
       "      <td>0.0</td>\n",
       "      <td>0.0</td>\n",
       "      <td>0.0</td>\n",
       "      <td>0.0</td>\n",
       "      <td>0.0</td>\n",
       "      <td>1.0</td>\n",
       "      <td>1.0</td>\n",
       "      <td>0.0</td>\n",
       "    </tr>\n",
       "  </tbody>\n",
       "</table>\n",
       "<p>5 rows × 61 columns</p>\n",
       "</div>"
      ],
      "text/plain": [
       "   renter_occupied_households  pct_renter_occupied  median_gross_rent  \\\n",
       "0                      6944.0               37.218              643.0   \n",
       "1                      1224.0               31.773              517.0   \n",
       "2                      1725.0               21.973              671.0   \n",
       "3                     18180.0               36.809              603.0   \n",
       "4                       551.0               17.627              668.0   \n",
       "\n",
       "   median_household_income  median_property_value  rent_burden  pct_white  \\\n",
       "0                  33315.0                98494.0       33.389   0.412070   \n",
       "1                  43724.0                85444.0       26.477   0.838682   \n",
       "2                  37777.0               136162.0       32.500   0.873733   \n",
       "3                  30607.0                70062.0       31.959   0.264083   \n",
       "4                  44237.0               187066.0       29.339   0.924502   \n",
       "\n",
       "   pct_af_am  pct_hispanic  pct_am_ind ...   UI5  UI6  UI7  UI8  UI9  UI10  \\\n",
       "0   0.493459      0.070193    0.002588 ...   0.0  0.0  0.0  0.0  0.0   0.0   \n",
       "1   0.015588      0.037419    0.073493 ...   0.0  0.0  1.0  0.0  0.0   0.0   \n",
       "2   0.041040      0.046922    0.004503 ...   0.0  1.0  0.0  0.0  0.0   0.0   \n",
       "3   0.240836      0.081067    0.377986 ...   0.0  0.0  0.0  0.0  0.0   0.0   \n",
       "4   0.005146      0.035753    0.014045 ...   0.0  0.0  0.0  0.0  0.0   0.0   \n",
       "\n",
       "   UI11  UI12   YA   YB  \n",
       "0   0.0   0.0  0.0  1.0  \n",
       "1   0.0   0.0  1.0  0.0  \n",
       "2   0.0   0.0  0.0  1.0  \n",
       "3   0.0   0.0  1.0  0.0  \n",
       "4   0.0   1.0  1.0  0.0  \n",
       "\n",
       "[5 rows x 61 columns]"
      ]
     },
     "execution_count": 3,
     "metadata": {},
     "output_type": "execute_result"
    }
   ],
   "source": [
    "x.head()"
   ]
  },
  {
   "cell_type": "code",
   "execution_count": 4,
   "metadata": {},
   "outputs": [],
   "source": [
    "x = np.array(x)\n",
    "y=np.array(y)"
   ]
  },
  {
   "cell_type": "code",
   "execution_count": 5,
   "metadata": {},
   "outputs": [
    {
     "name": "stdout",
     "output_type": "stream",
     "text": [
      "(2546, 61)\n",
      "(2546,)\n"
     ]
    }
   ],
   "source": [
    "print(x.shape)\n",
    "print(y.shape)"
   ]
  },
  {
   "cell_type": "code",
   "execution_count": 6,
   "metadata": {},
   "outputs": [],
   "source": [
    "# splt train test\n",
    "nr.seed(9988)\n",
    "x_train, x_test, y_train, y_test = train_test_split(x,y)"
   ]
  },
  {
   "cell_type": "markdown",
   "metadata": {},
   "source": [
    "## Train models selected"
   ]
  },
  {
   "cell_type": "code",
   "execution_count": 7,
   "metadata": {},
   "outputs": [],
   "source": [
    "Boosting = GradientBoostingRegressor ()\n",
    "Forest = RandomForestRegressor()\n",
    "XGB = XGBRegressor()"
   ]
  },
  {
   "cell_type": "code",
   "execution_count": 8,
   "metadata": {},
   "outputs": [
    {
     "data": {
      "text/plain": [
       "XGBRegressor(base_score=0.5, booster='gbtree', colsample_bylevel=1,\n",
       "       colsample_bytree=1, gamma=0, learning_rate=0.1, max_delta_step=0,\n",
       "       max_depth=3, min_child_weight=1, missing=None, n_estimators=100,\n",
       "       n_jobs=1, nthread=None, objective='reg:linear', random_state=0,\n",
       "       reg_alpha=0, reg_lambda=1, scale_pos_weight=1, seed=None,\n",
       "       silent=True, subsample=1)"
      ]
     },
     "execution_count": 8,
     "metadata": {},
     "output_type": "execute_result"
    }
   ],
   "source": [
    "Boosting.fit(x_train,y_train)\n",
    "Forest.fit(x_train,y_train)\n",
    "XGB.fit(x_train,y_train)"
   ]
  },
  {
   "cell_type": "code",
   "execution_count": 9,
   "metadata": {},
   "outputs": [],
   "source": [
    "# cross validation\n",
    "Results_Boosting = cross_validate(Boosting,x,y,scoring=\"r2\",cv=5)\n",
    "Results_Forest = cross_validate(Forest,x,y,scoring=\"r2\",cv=5)\n",
    "Results_XGB = cross_validate(XGB,x,y,scoring=\"r2\",cv=5)\n"
   ]
  },
  {
   "cell_type": "code",
   "execution_count": 10,
   "metadata": {},
   "outputs": [
    {
     "name": "stdout",
     "output_type": "stream",
     "text": [
      "Boosting\n",
      "0.9865648050625726\n",
      "0.8647452971126951\n",
      "Forest\n",
      "0.9639694102698023\n",
      "0.7990214207150143\n",
      "XGB\n",
      "0.9810434343922617\n",
      "0.8682491103116959\n"
     ]
    }
   ],
   "source": [
    "Boosting_test_scores = Results_Boosting['test_score']\n",
    "Boosting_train_scores = Results_Boosting['train_score']\n",
    "Forest_test_scores = Results_Forest['test_score']\n",
    "Forest_train_scores = Results_Forest['train_score']\n",
    "XGB_test_scores = Results_XGB['test_score']\n",
    "XGB_train_scores = Results_XGB['train_score']\n",
    "\n",
    "print('Boosting')\n",
    "print(np.mean(Boosting_train_scores))\n",
    "print(np.mean(Boosting_test_scores))\n",
    "print('Forest')\n",
    "print(np.mean(Forest_train_scores))\n",
    "print(np.mean(Forest_test_scores))\n",
    "print('XGB')\n",
    "print(np.mean(XGB_train_scores))\n",
    "print(np.mean(XGB_test_scores))"
   ]
  },
  {
   "cell_type": "code",
   "execution_count": 11,
   "metadata": {},
   "outputs": [],
   "source": [
    "nr.seed(123)\n",
    "inside = ms.KFold(n_splits=5, shuffle = True)\n",
    "nr.seed(321)\n",
    "outside = ms.KFold(n_splits=5, shuffle = True)"
   ]
  },
  {
   "cell_type": "code",
   "execution_count": 12,
   "metadata": {},
   "outputs": [],
   "source": [
    "nr.seed(3456)\n",
    "## Define the dictionary for the grid search and the model object to search on\n",
    "param_grid_Boosting = {\"n_estimators\": range(20,501,20)}\n",
    "param_grid_Forest = {\"n_estimators\": range(20,501,20)}\n",
    "param_grid_XGB = {\"n_estimators\": range(20,501,20)}\n",
    "\n",
    "## Perform the grid search over the parameters\n",
    "Grid_Boosting = ms.GridSearchCV(estimator = Boosting, param_grid = param_grid_Boosting, \n",
    "                      cv = inside, # Use the inside folds\n",
    "                      scoring = 'r2',\n",
    "                      return_train_score = True)\n",
    "\n",
    "Grid_Forest = ms.GridSearchCV(estimator = Forest, param_grid = param_grid_Forest, \n",
    "                      cv = inside, # Use the inside folds\n",
    "                      scoring = 'r2',\n",
    "                      return_train_score = True)\n",
    "\n",
    "Grid_XGB = ms.GridSearchCV(estimator = XGB, param_grid = param_grid_XGB, \n",
    "                      cv = inside, # Use the inside folds\n",
    "                      scoring = 'r2',\n",
    "                      return_train_score = True)\n"
   ]
  },
  {
   "cell_type": "code",
   "execution_count": 13,
   "metadata": {},
   "outputs": [
    {
     "data": {
      "text/plain": [
       "GridSearchCV(cv=KFold(n_splits=5, random_state=None, shuffle=True),\n",
       "       error_score='raise-deprecating',\n",
       "       estimator=XGBRegressor(base_score=0.5, booster='gbtree', colsample_bylevel=1,\n",
       "       colsample_bytree=1, gamma=0, learning_rate=0.1, max_delta_step=0,\n",
       "       max_depth=3, min_child_weight=1, missing=None, n_estimators=100,\n",
       "       n_jobs=1, nthread=None, objective='reg:linear', random_state=0,\n",
       "       reg_alpha=0, reg_lambda=1, scale_pos_weight=1, seed=None,\n",
       "       silent=True, subsample=1),\n",
       "       fit_params=None, iid='warn', n_jobs=None,\n",
       "       param_grid={'n_estimators': range(20, 501, 20)},\n",
       "       pre_dispatch='2*n_jobs', refit=True, return_train_score=True,\n",
       "       scoring='r2', verbose=0)"
      ]
     },
     "execution_count": 13,
     "metadata": {},
     "output_type": "execute_result"
    }
   ],
   "source": [
    "## Fit thhe cross validated grid search over the data \n",
    "Grid_Boosting.fit(x,y)\n",
    "Grid_Forest.fit(x,y)\n",
    "Grid_XGB.fit(x,y)\n",
    "\n"
   ]
  },
  {
   "cell_type": "code",
   "execution_count": 28,
   "metadata": {},
   "outputs": [
    {
     "data": {
      "text/plain": [
       "({'n_estimators': 500}, 0.8758794120048428)"
      ]
     },
     "execution_count": 28,
     "metadata": {},
     "output_type": "execute_result"
    }
   ],
   "source": [
    " Grid_Boosting.best_params_, Grid_Boosting.best_score_"
   ]
  },
  {
   "cell_type": "code",
   "execution_count": 29,
   "metadata": {},
   "outputs": [
    {
     "data": {
      "text/plain": [
       "({'n_estimators': 440}, 0.8856713891453629)"
      ]
     },
     "execution_count": 29,
     "metadata": {},
     "output_type": "execute_result"
    }
   ],
   "source": [
    "Grid_Forest.best_params_, Grid_Forest.best_score_"
   ]
  },
  {
   "cell_type": "code",
   "execution_count": 29,
   "metadata": {},
   "outputs": [
    {
     "data": {
      "text/plain": [
       "({'n_estimators': 440}, 0.8856713891453629)"
      ]
     },
     "execution_count": 29,
     "metadata": {},
     "output_type": "execute_result"
    }
   ],
   "source": [
    "Grid_XGB.best_params_, Grid_Forest.best_score_"
   ]
  },
  {
   "cell_type": "code",
   "execution_count": 30,
   "metadata": {},
   "outputs": [
    {
     "name": "stderr",
     "output_type": "stream",
     "text": [
      "C:\\Users\\esteban.londono\\AppData\\Local\\Continuum\\anaconda3\\envs\\ML_Platzi\\lib\\site-packages\\sklearn\\model_selection\\_split.py:2053: FutureWarning: You should specify a value for 'cv' instead of relying on the default value. The default value will change from 3 to 5 in version 0.22.\n",
      "  warnings.warn(CV_WARNING, FutureWarning)\n",
      "C:\\Users\\esteban.londono\\AppData\\Local\\Continuum\\anaconda3\\envs\\ML_Platzi\\lib\\site-packages\\sklearn\\model_selection\\_split.py:2053: FutureWarning: You should specify a value for 'cv' instead of relying on the default value. The default value will change from 3 to 5 in version 0.22.\n",
      "  warnings.warn(CV_WARNING, FutureWarning)\n"
     ]
    }
   ],
   "source": [
    "final_results_Boosting = cross_validate(Grid_Boosting.best_estimator_,x,y)\n",
    "final_results_Forest = cross_validate(Grid_Forest.best_estimator_,x,y)\n",
    "final_results_Forest = cross_validate(Grid_XGB.best_estimator_,x,y)"
   ]
  },
  {
   "cell_type": "code",
   "execution_count": 31,
   "metadata": {},
   "outputs": [
    {
     "name": "stdout",
     "output_type": "stream",
     "text": [
      "0.987865579882197\n",
      "0.8527832861488114\n"
     ]
    },
    {
     "name": "stderr",
     "output_type": "stream",
     "text": [
      "C:\\Users\\esteban.londono\\AppData\\Local\\Continuum\\anaconda3\\envs\\ML_Platzi\\lib\\site-packages\\sklearn\\utils\\deprecation.py:125: FutureWarning: You are accessing a training score ('train_score'), which will not be available by default any more in 0.21. If you need training scores, please set return_train_score=True\n",
      "  warnings.warn(*warn_args, **warn_kwargs)\n"
     ]
    }
   ],
   "source": [
    "test_scores_Boosting = final_results_Boosting['test_score']\n",
    "train_scores_Boosting = final_results_Boosting['train_score']\n",
    "print(np.mean(train_scores_Boosting))\n",
    "print(np.mean(test_scores_Boosting))"
   ]
  },
  {
   "cell_type": "code",
   "execution_count": 32,
   "metadata": {},
   "outputs": [
    {
     "name": "stdout",
     "output_type": "stream",
     "text": [
      "0.982048201682257\n",
      "0.8660344372205239\n"
     ]
    }
   ],
   "source": [
    "test_scores_Forest = final_results_Forest['test_score']\n",
    "train_scores_Forest = final_results_Forest['train_score']\n",
    "print(np.mean(train_scores_Forest))\n",
    "print(np.mean(test_scores_Forest))"
   ]
  },
  {
   "cell_type": "code",
   "execution_count": 32,
   "metadata": {},
   "outputs": [
    {
     "name": "stdout",
     "output_type": "stream",
     "text": [
      "0.982048201682257\n",
      "0.8660344372205239\n"
     ]
    }
   ],
   "source": [
    "test_scores_XGB = final_results_XGB['test_score']\n",
    "train_scores_XGB = final_results_XGB['train_score']\n",
    "print(np.mean(train_scores_XGB))\n",
    "print(np.mean(test_scores_XGB))"
   ]
  },
  {
   "cell_type": "markdown",
   "metadata": {},
   "source": [
    "## prediction"
   ]
  },
  {
   "cell_type": "code",
   "execution_count": null,
   "metadata": {},
   "outputs": [],
   "source": [
    "model = GradientBoostingRegressor (n_estimators=)"
   ]
  },
  {
   "cell_type": "code",
   "execution_count": null,
   "metadata": {},
   "outputs": [],
   "source": [
    "test_enc=pd.read_csv('df_test_enc.csv')\n",
    "test_enc=test_trf.drop(['Unnamed: 0'],axis=1)\n",
    "test_enc= np.array(test_trf)"
   ]
  },
  {
   "cell_type": "code",
   "execution_count": null,
   "metadata": {},
   "outputs": [],
   "source": [
    "E_Prediction=model.predict(test_enc)\n",
    "E_Prediction= pd.DataFrame(AE_Prediction,columns=['evictions'])\n",
    "E_Prediction.index.names=['row_id']\n",
    "E_Prediction['evictions']=E_Prediction['evictions'].astype(np.int64)\n",
    "E_Prediction.head()"
   ]
  },
  {
   "cell_type": "code",
   "execution_count": null,
   "metadata": {},
   "outputs": [],
   "source": [
    "E_Prediction.to_csv('E_Prediction.csv')"
   ]
  }
 ],
 "metadata": {
  "kernelspec": {
   "display_name": "Python 3",
   "language": "python",
   "name": "python3"
  },
  "language_info": {
   "codemirror_mode": {
    "name": "ipython",
    "version": 3
   },
   "file_extension": ".py",
   "mimetype": "text/x-python",
   "name": "python",
   "nbconvert_exporter": "python",
   "pygments_lexer": "ipython3",
   "version": "3.7.1"
  }
 },
 "nbformat": 4,
 "nbformat_minor": 2
}
