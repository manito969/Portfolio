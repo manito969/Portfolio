{
 "cells": [
  {
   "cell_type": "code",
   "execution_count": 1,
   "metadata": {},
   "outputs": [],
   "source": [
    "import pandas as pd\n",
    "import numpy as np\n",
    "\n",
    "import matplotlib.pyplot as plt\n",
    "import seaborn as sns\n",
    "import scipy.stats as ss\n",
    "import math\n",
    "\n",
    "\n",
    "\n",
    "from sklearn import preprocessing\n",
    "import sklearn.model_selection as ms\n",
    "from sklearn import linear_model\n",
    "import sklearn.metrics as sklm\n",
    "from sklearn import feature_selection as fs\n",
    "from sklearn import metrics\n",
    "from sklearn.model_selection import cross_validate\n",
    "\n",
    "%matplotlib inline\n",
    "\n",
    "pd.set_option('display.float_format', lambda x: '{:.3f}'.format(x)) #Limiting floats output to 3 decimal points\n",
    "\n",
    "import warnings\n",
    "warnings.filterwarnings('ignore')"
   ]
  },
  {
   "cell_type": "code",
   "execution_count": 2,
   "metadata": {},
   "outputs": [],
   "source": [
    "df_test = pd.read_csv('test_values.csv')\n"
   ]
  },
  {
   "cell_type": "code",
   "execution_count": 3,
   "metadata": {},
   "outputs": [
    {
     "name": "stdout",
     "output_type": "stream",
     "text": [
      "['Metro - Counties in metro areas of fewer than 250,000 population'\n",
      " 'Nonmetro - Completely rural or less than 2,500 urban population, not adjacent to a metro area'\n",
      " 'Metro - Counties in metro areas of 250,000 to 1 million population'\n",
      " 'Nonmetro - Urban population of 20,000 or more, adjacent to a metro area'\n",
      " 'Nonmetro - Completely rural or less than 2,500 urban population, adjacent to a metro area'\n",
      " 'Metro - Counties in metro areas of 1 million population or more'\n",
      " 'Nonmetro - Urban population of 2,500 to 19,999, adjacent to a metro area'\n",
      " 'Nonmetro - Urban population of 2,500 to 19,999, not adjacent to a metro area'\n",
      " 'Nonmetro - Urban population of 20,000 or more, not adjacent to a metro area']\n",
      "[2 2 4 ... 7 1 2]\n"
     ]
    },
    {
     "data": {
      "text/plain": [
       "array([[0., 0., 1., 0., 0., 0., 0., 0., 0.],\n",
       "       [0., 0., 1., 0., 0., 0., 0., 0., 0.],\n",
       "       [0., 0., 0., 0., 1., 0., 0., 0., 0.],\n",
       "       [0., 1., 0., 0., 0., 0., 0., 0., 0.],\n",
       "       [0., 0., 0., 0., 0., 0., 0., 1., 0.],\n",
       "       [0., 1., 0., 0., 0., 0., 0., 0., 0.],\n",
       "       [0., 0., 0., 1., 0., 0., 0., 0., 0.],\n",
       "       [1., 0., 0., 0., 0., 0., 0., 0., 0.],\n",
       "       [0., 1., 0., 0., 0., 0., 0., 0., 0.],\n",
       "       [0., 0., 0., 0., 0., 1., 0., 0., 0.]])"
      ]
     },
     "execution_count": 3,
     "metadata": {},
     "output_type": "execute_result"
    }
   ],
   "source": [
    "print(df_test['rucc'].unique())\n",
    "Features = df_test['rucc']\n",
    "enc = preprocessing.LabelEncoder()\n",
    "enc.fit(Features)\n",
    "Features = enc.transform(Features)\n",
    "print(Features)\n",
    "ohe = preprocessing.OneHotEncoder()\n",
    "encoded = ohe.fit(Features.reshape(-1,1))\n",
    "Features = encoded.transform(Features.reshape(-1,1)).toarray()\n",
    "Features[:10,:]"
   ]
  },
  {
   "cell_type": "code",
   "execution_count": 4,
   "metadata": {},
   "outputs": [
    {
     "name": "stdout",
     "output_type": "stream",
     "text": [
      "(2420, 29)\n",
      "[[0. 0. 1. 0. 0. 0. 0. 0. 0. 0. 0. 1. 0. 0. 0. 0. 0. 0. 0. 0. 0. 0. 0. 0.\n",
      "  0. 0. 1. 1. 0.]\n",
      " [0. 0. 1. 0. 0. 0. 0. 0. 0. 0. 0. 1. 0. 0. 0. 0. 0. 0. 0. 0. 0. 0. 0. 0.\n",
      "  0. 0. 1. 0. 1.]]\n"
     ]
    }
   ],
   "source": [
    "def encode_string(cat_feature):\n",
    "    ## First encode the strings to numeric categories\n",
    "    enc = preprocessing.LabelEncoder()\n",
    "    enc.fit(cat_feature)\n",
    "    enc_cat_feature = enc.transform(cat_feature)\n",
    "    ## Now, apply one hot encoding\n",
    "    ohe = preprocessing.OneHotEncoder()\n",
    "    encoded = ohe.fit(enc_cat_feature.reshape(-1,1))\n",
    "    return encoded.transform(enc_cat_feature.reshape(-1,1)).toarray()\n",
    "    \n",
    "categorical_columns= ['economic_typology','urban_influence','year']\n",
    "\n",
    "for col in categorical_columns:\n",
    "    temp = encode_string(df_test[col])\n",
    "    Features = np.concatenate([Features, temp], axis = 1)\n",
    "\n",
    "print(Features.shape)\n",
    "print(Features[:2, :]) "
   ]
  },
  {
   "cell_type": "code",
   "execution_count": 5,
   "metadata": {},
   "outputs": [],
   "source": [
    "num_cols=['renter_occupied_households',\n",
    " 'pct_renter_occupied',\n",
    " 'median_gross_rent',\n",
    " 'median_household_income',\n",
    " 'median_property_value',\n",
    " 'rent_burden',\n",
    " 'pct_white',\n",
    " 'pct_af_am',\n",
    " 'pct_hispanic',\n",
    " 'pct_am_ind',\n",
    " 'pct_asian',\n",
    " 'pct_nh_pi',\n",
    " 'pct_multiple',\n",
    " 'pct_other',\n",
    " 'poverty_rate',\n",
    " 'pct_civilian_labor',\n",
    " 'pct_unemployment',\n",
    " 'pct_uninsured_adults',\n",
    " 'pct_uninsured_children',\n",
    " 'pct_adult_obesity',\n",
    " 'pct_diabetes',\n",
    " 'pct_physical_inactivity',\n",
    " 'heart_disease_mortality_per_100k',\n",
    " 'pct_female',\n",
    " 'pct_below_18_years_of_age',\n",
    " 'pct_aged_65_years_and_older',\n",
    " 'pct_adults_less_than_a_high_school_diploma',\n",
    " 'pct_adults_with_high_school_diploma',\n",
    " 'pct_adults_with_some_college',\n",
    " 'pct_adults_bachelors_or_higher',\n",
    " 'birth_rate_per_1k',\n",
    " 'death_rate_per_1k']"
   ]
  },
  {
   "cell_type": "code",
   "execution_count": 6,
   "metadata": {},
   "outputs": [],
   "source": [
    "enc_cols = [\n",
    "    'RUCC1', 'RUCC2','RUCC3','RUCC4','RUCC5','RUCC6','RUCC7','RUCC8','RUCC9',\n",
    "    'ECT1','ECT2','ECT3','ECT4','ECT5','ECT6',\n",
    "    'UI1','UI2','UI3','UI4','UI5','UI6','UI7','UI8','UI9','UI10','UI11','UI12',\n",
    "    'YA','YB']"
   ]
  },
  {
   "cell_type": "code",
   "execution_count": 7,
   "metadata": {},
   "outputs": [],
   "source": [
    "cols = num_cols+enc_cols"
   ]
  },
  {
   "cell_type": "code",
   "execution_count": 8,
   "metadata": {},
   "outputs": [],
   "source": [
    "df_test= df_test.fillna(df_test.mean())"
   ]
  },
  {
   "cell_type": "code",
   "execution_count": 9,
   "metadata": {},
   "outputs": [],
   "source": [
    "df_test_enc= np.concatenate([df_test[num_cols],Features],axis=1)\n",
    "df_test_enc = pd.DataFrame(df_test_enc, columns=cols)\n",
    "df_test_enc.to_csv('df_test_enc.csv')"
   ]
  },
  {
   "cell_type": "code",
   "execution_count": 10,
   "metadata": {},
   "outputs": [
    {
     "data": {
      "text/plain": [
       "(2420, 61)"
      ]
     },
     "execution_count": 10,
     "metadata": {},
     "output_type": "execute_result"
    }
   ],
   "source": [
    "df_test_enc.shape"
   ]
  },
  {
   "cell_type": "markdown",
   "metadata": {},
   "source": [
    "## transforming numerical data"
   ]
  },
  {
   "cell_type": "code",
   "execution_count": 11,
   "metadata": {},
   "outputs": [],
   "source": [
    "data_norm = preprocessing.normalize(df_test_enc[num_cols], axis = 0)"
   ]
  },
  {
   "cell_type": "code",
   "execution_count": 12,
   "metadata": {},
   "outputs": [],
   "source": [
    "df_test_trf = np.concatenate([data_norm,Features],axis=1)"
   ]
  },
  {
   "cell_type": "code",
   "execution_count": 13,
   "metadata": {},
   "outputs": [],
   "source": [
    "df_test_trf = pd.DataFrame(df_test_trf, columns=cols)\n",
    "df_test_trf.to_csv('df_test_trf.csv')"
   ]
  },
  {
   "cell_type": "code",
   "execution_count": 14,
   "metadata": {},
   "outputs": [
    {
     "data": {
      "text/plain": [
       "(2420, 61)"
      ]
     },
     "execution_count": 14,
     "metadata": {},
     "output_type": "execute_result"
    }
   ],
   "source": [
    "df_test_trf.shape"
   ]
  }
 ],
 "metadata": {
  "kernelspec": {
   "display_name": "Python 3",
   "language": "python",
   "name": "python3"
  },
  "language_info": {
   "codemirror_mode": {
    "name": "ipython",
    "version": 3
   },
   "file_extension": ".py",
   "mimetype": "text/x-python",
   "name": "python",
   "nbconvert_exporter": "python",
   "pygments_lexer": "ipython3",
   "version": "3.7.1"
  }
 },
 "nbformat": 4,
 "nbformat_minor": 2
}
